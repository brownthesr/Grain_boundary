{
 "cells": [
  {
   "cell_type": "code",
   "execution_count": 49,
   "metadata": {},
   "outputs": [],
   "source": [
    "import torch\n",
    "import torch.nn as nn\n",
    "import torch.nn.functional as F\n",
    "from torch_geometric.data import Data# this contains our dataset\n",
    "import numpy as np\n",
    "from torch_geometric.datasets import Planetoid# this helps us manipulate the dataset\n",
    "from torch_geometric.nn import GCNConv, SAGEConv, GATConv# this is a simple implementation of the GCN convolutional layer\n",
    "import torch_geometric.transforms as T\n",
    "from torch_geometric.utils import to_dense_adj\n",
    "import seaborn as sns\n",
    "import pandas as pd\n",
    "import matplotlib.pyplot as plt\n",
    "from torch_geometric.nn import global_mean_pool\n",
    "from torch_geometric.loader import DataLoader\n",
    "# from torch_geometric.nn import Data\n",
    "# ipyvolume\n",
    "# maybe use global mean pool"
   ]
  },
  {
   "cell_type": "code",
   "execution_count": 50,
   "metadata": {},
   "outputs": [],
   "source": [
    "class GCN(torch.nn.Module):# this is the torch geometric implementation of our GCN model like before, it\n",
    "    # is a lot simpler to implement and way customizeable\n",
    "    def __init__(self, in_feat, hid_feat, out_feat):\n",
    "        super().__init__()\n",
    "        self.conv1 = GCNConv(in_feat, hid_feat)\n",
    "        self.final = GCNConv(hid_feat, out_feat)\n",
    "        self.activation = nn.ReLU()\n",
    "        #self.dropout = nn.Dropout(p=.4)\n",
    "\n",
    "    def forward(self, feats, edge_index,batch   ):\n",
    "        x = feats\n",
    "        x1 = self.activation(self.conv1(x, edge_index))\n",
    "\n",
    "        # Maybe get rid of dropout\n",
    "        x2 = F.dropout(x1, training= self.training)\n",
    "\n",
    "        x7 = self.final(x2, edge_index)\n",
    "        return global_mean_pool(x7,batch)"
   ]
  },
  {
   "cell_type": "code",
   "execution_count": 51,
   "metadata": {},
   "outputs": [],
   "source": [
    "criterion = nn.MSELoss()\n",
    "num_feats = 10 #FIXME\n",
    "num_hid = 16\n",
    "epochs = 30\n",
    "output = 1\n",
    "model = GCN(num_feats,num_hid,output).to(\"cuda:0\")# this initializes our model and puts it on the GPU(change if you do not have a gpu)\n",
    "optimizer = torch.optim.Adam(params=model.parameters(),lr = 5e-3, weight_decay=5e-4)# sets up our optimizer\n",
    "train_feats = None # fill this with a torch Tensor (num_graphs x num_nodes x num_feats)\n",
    "train_edge_index = None # fill this with a torch Tensor (num_graphs x num_edges x 2)\n",
    "train_labels = None # fill this with a torch Tensor (num_graphs x 1)\n",
    "\n",
    "val_feats = None # fill this with a torch Tensor\n",
    "val_edge_index = None # fill this with a torch Tensor\n",
    "val_labels = None # fill this with a torch Tensor\n",
    "\n",
    "test_feats = None # fill this with a torch Tensor\n",
    "test_edge_index = None # fill this with a torch Tensor\n",
    "test_labels = None # fill this with a torch Tensor\n",
    "\n",
    "# For dataset preprocessing, for each dataset do the following\n",
    "#   Create a data object for each graph Data(x=x,edge_index=edge_index,y=labels)\n",
    "#   make a list of those objects [data1,data2,...]\n",
    "#   loader = DataLoader(datasetlist, batch_size=64)"
   ]
  },
  {
   "cell_type": "code",
   "execution_count": 52,
   "metadata": {},
   "outputs": [],
   "source": [
    "def accuracy(preds, labels):\n",
    "    return torch.mean(torch.abs(preds - labels))"
   ]
  },
  {
   "cell_type": "code",
   "execution_count": 81,
   "metadata": {},
   "outputs": [
    {
     "name": "stdout",
     "output_type": "stream",
     "text": [
      "<class 'torch.Tensor'>\n",
      "tensor([[1.]]) tensor([[0.]])\n",
      "tensor([[0.]]) tensor([[1.]])\n"
     ]
    }
   ],
   "source": [
    "edge_index = torch.tensor([[0, 1, 2,3],[1,2,0,2]]).long().cpu()\n",
    "print(type(edge_index))\n",
    "feat = torch.arange(10).tolist()\n",
    "feats = torch.Tensor([feat,feat,feat,feat]).cpu()\n",
    "model = model.cpu()\n",
    "a = (model(feats,edge_index,torch.Tensor([0,0,0,0]).long()))\n",
    "data1 = Data(x=feats,edge_index=edge_index,y=torch.Tensor([[1]]))\n",
    "data2 = Data(x=feats,edge_index=edge_index,y=torch.Tensor([[0]]))\n",
    "datalist = [data1,data2]\n",
    "datalist2 = [data2,data1]\n",
    "# dataset = torch.utils.data.TensorDataset(datalist,datalist2)\n",
    "Loader = DataLoader(datalist,batch_size=1)\n",
    "Loader2 = DataLoader(datalist2,batch_size=1)\n",
    "loader2_iterator = iter(Loader2)\n",
    "for d1 in Loader:\n",
    "    try:\n",
    "        d2 = next(loader2_iterator)\n",
    "    except StopIteration:\n",
    "        loader2_iterator = iter(Loader2)\n",
    "        d2 = next(loader2_iterator)\n",
    "    \n",
    "    print(d1.y,d2.y)\n",
    "# print(a)\n",
    "# accuracy(a,torch.Tensor([[0],[0]]))"
   ]
  },
  {
   "cell_type": "code",
   "execution_count": 55,
   "metadata": {},
   "outputs": [],
   "source": [
    "model.train()# tells our model we are about to train\n",
    "val_accs = []\n",
    "train_accs = []\n",
    "\n",
    "train_losses = []\n",
    "val_losses = []\n",
    "\n",
    "test_losses = []\n",
    "test_accs = []\n",
    "# for epoch in range(100):# runs through all the data 200 times\n",
    "#     optimizer.zero_grad()\n",
    "#     train_preds = model(train_feats, train_edge_index)# runs our model on the data\n",
    "\n",
    "#     train_loss = criterion(train_preds, train_labels)\n",
    "#     train_acc = accuracy(train_preds, train_labels)\n",
    "\n",
    "#     val_preds = model(val_feats, val_edge_index)\n",
    "\n",
    "#     val_loss = criterion(val_preds, val_edge_index)\n",
    "#     val_acc = accuracy(val_preds, val_edge_index)\n",
    "\n",
    "#     if(epoch %5 == 0):\n",
    "#         print(f\"epoch: {epoch} training_loss: {train_loss:.2} train_abs_error: {train_acc:.2} val_loss: {val_loss:.2} val_abs_error: {val_acc:.2}\")\n",
    "        \n",
    "#     train_loss.backward()\n",
    "#     optimizer.step()\n",
    "#     val_accs.append(val_acc)\n",
    "#     train_accs.append(train_acc)\n",
    "\n",
    "#     train_losses.append(train_loss.cpu().item())\n",
    "#     val_losses.append(val_loss.cpu().item())\n",
    "def train():\n",
    "    model.train()\n",
    "    val_iterator = iter(val_loader)\n",
    "    for i,train_data in enumerate(train_loader):\n",
    "        try:\n",
    "            val_data = next(val_iterator)\n",
    "        except StopIteration:\n",
    "            val_iterator = iter(val_loader)\n",
    "            val_data = next(val_iterator)\n",
    "\n",
    "        train_out = model(train_data.x,train_data.edge_index,train_data.batch)\n",
    "        train_loss = criterion(train_out,train_data.y)\n",
    "        train_absolute_error = accuracy(train_out,train_data.y).cpu().item()\n",
    "        print(f\"Mean squared error for training batch {i} is: {train_loss.item(),:.2}, absolute error is: {train_absolute_error:.2}\")\n",
    "        train_losses.append(train_loss.cpu().item())\n",
    "        train_accs.append(train_absolute_error)\n",
    "\n",
    "        val_out = model(val_data.x,val_data.edge_index,val_data.batch)\n",
    "        val_loss = criterion(val_out,val_data.y)\n",
    "        val_absolute_error = accuracy(val_out,val_data.y).cpu().item()\n",
    "        print(f\"Mean squared error for validation batch {i} is: {val_loss.item(),:.2}, absolute error is: {val_absolute_error:.2}\")\n",
    "        val_losses.append(val_loss.cpu().item())\n",
    "        val_accs.append(val_absolute_error)\n",
    "\n",
    "        train_loss.backward()\n",
    "        optimizer.step()\n",
    "        optimizer.zero_grad()\n",
    "\n",
    "def test():\n",
    "    model.eval()\n",
    "    for i,data in enumerate(test_loader):\n",
    "        out = model(data.x,data.edge_index,data.batch)\n",
    "        loss = criterion(out,data.y)\n",
    "        absolute_error = accuracy(out,data.y).cpu().item()\n",
    "        print(f\"Mean squared error for testing batch {i} is: {loss.item(),:.2} absolute error is: {absolute_error:.2}\")\n",
    "        test_losses.append(loss.cpu().item())\n",
    "        test_accs.append(absolute_error)\n",
    "\n",
    "for epoch in epochs:\n",
    "    print(f\"epoch: {epoch}\")\n",
    "    train()\n",
    "    test()\n"
   ]
  },
  {
   "cell_type": "code",
   "execution_count": null,
   "metadata": {},
   "outputs": [],
   "source": [
    "df_accs = pd.DataFrame({\"train_acc\":train_accs,\"val_acc\":val_accs})\n",
    "sns.relplot(data=df_accs, kind = \"line\")\n",
    "df_losses = pd.DataFrame({\"train_loss\":train_losses,\"val_loss\":val_losses})\n",
    "sns.relplot(data=df_accs, kind = \"line\")\n",
    "plt.show()"
   ]
  }
 ],
 "metadata": {
  "kernelspec": {
   "display_name": "mainenv",
   "language": "python",
   "name": "python3"
  },
  "language_info": {
   "codemirror_mode": {
    "name": "ipython",
    "version": 3
   },
   "file_extension": ".py",
   "mimetype": "text/x-python",
   "name": "python",
   "nbconvert_exporter": "python",
   "pygments_lexer": "ipython3",
   "version": "3.9.15"
  },
  "orig_nbformat": 4,
  "vscode": {
   "interpreter": {
    "hash": "b9a1173fe2fc6b1e069ff4bb519a0fac3f1641eed16cc368a7915ccd160d7c0f"
   }
  }
 },
 "nbformat": 4,
 "nbformat_minor": 2
}
