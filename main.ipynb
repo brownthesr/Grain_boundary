{
 "cells": [
  {
   "cell_type": "code",
   "execution_count": 1,
   "metadata": {},
   "outputs": [
    {
     "name": "stderr",
     "output_type": "stream",
     "text": [
      "c:\\Users\\brown\\miniconda3\\envs\\mainenv\\lib\\site-packages\\tqdm\\auto.py:22: TqdmWarning: IProgress not found. Please update jupyter and ipywidgets. See https://ipywidgets.readthedocs.io/en/stable/user_install.html\n",
      "  from .autonotebook import tqdm as notebook_tqdm\n"
     ]
    }
   ],
   "source": [
    "import torch\n",
    "import torch.nn as nn\n",
    "import torch.nn.functional as F\n",
    "from torch_geometric.data import Data# this contains our dataset\n",
    "import numpy as np\n",
    "from torch_geometric.datasets import Planetoid# this helps us manipulate the dataset\n",
    "from torch_geometric.nn import GCNConv, SAGEConv, GATConv# this is a simple implementation of the GCN convolutional layer\n",
    "import torch_geometric.transforms as T\n",
    "from torch_geometric.utils import to_dense_adj\n",
    "import seaborn as sns\n",
    "import pandas as pd\n",
    "import matplotlib.pyplot as plt"
   ]
  },
  {
   "cell_type": "code",
   "execution_count": 2,
   "metadata": {},
   "outputs": [],
   "source": [
    "class GCN(torch.nn.Module):# this is the torch geometric implementation of our GCN model like before, it\n",
    "    # is a lot simpler to implement and way customizeable\n",
    "    def __init__(self, in_feat, hid_feat, out_feat):\n",
    "        super().__init__()\n",
    "        self.conv1 = GCNConv(in_feat, hid_feat)\n",
    "        self.final = GCNConv(hid_feat, out_feat)\n",
    "        self.activation = nn.ReLU()\n",
    "        #self.dropout = nn.Dropout(p=.4)\n",
    "\n",
    "    def forward(self, feats, edge_index):\n",
    "        x = feats\n",
    "        x1 = self.activation(self.conv1(x, edge_index))\n",
    "\n",
    "        # Maybe get rid of dropout\n",
    "        x2 = F.dropout(x1, training= self.training)\n",
    "\n",
    "        x7 = self.final(x2, edge_index)\n",
    "        return torch.mean(x7)"
   ]
  },
  {
   "cell_type": "code",
   "execution_count": 4,
   "metadata": {},
   "outputs": [],
   "source": [
    "loss = nn.MSELoss()\n",
    "num_feats = 10 #FIXME\n",
    "num_hid = 16\n",
    "output = 1\n",
    "model = GCN(num_feats,num_hid,output).to(\"cuda:0\")# this initializes our model and puts it on the GPU(change if you do not have a gpu)\n",
    "optimizer = torch.optim.Adam(params=model.parameters(),lr = 5e-3, weight_decay=5e-4)# sets up our optimizer\n",
    "train_feats = None # fill this with a torch Tensor (num_graphs x num_nodes x num_feats)\n",
    "train_edge_index = None # fill this with a torch Tensor (num_graphs x num_edges x 2)\n",
    "train_labels = None # fill this with a torch Tensor (num_graphs x 1)\n",
    "\n",
    "val_feats = None # fill this with a torch Tensor\n",
    "val_edge_index = None # fill this with a torch Tensor\n",
    "val_labels = None # fill this with a torch Tensor\n",
    "\n",
    "test_feats = None # fill this with a torch Tensor\n",
    "test_edge_index = None # fill this with a torch Tensor\n",
    "test_labels = None # fill this with a torch Tensor"
   ]
  },
  {
   "cell_type": "code",
   "execution_count": 12,
   "metadata": {},
   "outputs": [
    {
     "data": {
      "text/plain": [
       "tensor(1.)"
      ]
     },
     "execution_count": 12,
     "metadata": {},
     "output_type": "execute_result"
    }
   ],
   "source": [
    "loss(torch.Tensor([2]),torch.Tensor([3]))"
   ]
  },
  {
   "cell_type": "code",
   "execution_count": null,
   "metadata": {},
   "outputs": [],
   "source": [
    "def accuracy(preds, labels):\n",
    "    return torch.mean(torch.abs(preds - labels))"
   ]
  },
  {
   "cell_type": "code",
   "execution_count": null,
   "metadata": {},
   "outputs": [],
   "source": [
    "model.train()# tells our model we are about to train\n",
    "val_accs = []\n",
    "train_accs = []\n",
    "\n",
    "train_losses = []\n",
    "val_losses = []\n",
    "for epoch in range(100):# runs through all the data 200 times\n",
    "    optimizer.zero_grad()\n",
    "    train_preds = model(train_feats, train_edge_index)# runs our model on the data\n",
    "\n",
    "    train_loss = loss(train_preds, train_labels)\n",
    "    train_acc = accuracy(train_preds, train_labels)\n",
    "\n",
    "    val_preds = model(val_feats, val_edge_index)\n",
    "\n",
    "    val_loss = loss(val_preds, val_edge_index)\n",
    "    val_acc = accuracy(val_preds, val_edge_index)\n",
    "\n",
    "    if(epoch %5 == 0):\n",
    "        print(f\"epoch: {epoch} training_loss: {train_loss:.2} train_abs_error: {train_acc:.2} val_loss: {val_loss:.2} val_abs_error: {val_acc:.2}\")\n",
    "        \n",
    "    train_loss.backward()\n",
    "    optimizer.step()\n",
    "    val_accs.append(val_acc)\n",
    "    train_accs.append(train_acc)\n",
    "\n",
    "    train_losses.append(train_loss.cpu().item())\n",
    "    val_losses.append(val_loss.cpu().item())\n",
    "test_preds = model(test_feats, test_edge_index)\n",
    "test_loss = loss(test_preds, test_labels)\n",
    "test_acc = accuracy(test_preds, test_labels)\n",
    "print(f\"test_loss: {test_loss:.2} test_abs_error: {test_acc:.2}\")"
   ]
  },
  {
   "cell_type": "code",
   "execution_count": null,
   "metadata": {},
   "outputs": [],
   "source": [
    "df_accs = pd.DataFrame({\"train_acc\":train_accs,\"val_acc\":val_accs})\n",
    "sns.relplot(data=df_accs, kind = \"line\")\n",
    "df_losses = pd.DataFrame({\"train_loss\":train_losses,\"val_loss\":val_losses})\n",
    "sns.relplot(data=df_accs, kind = \"line\")\n",
    "plt.show()"
   ]
  }
 ],
 "metadata": {
  "kernelspec": {
   "display_name": "mainenv",
   "language": "python",
   "name": "python3"
  },
  "language_info": {
   "codemirror_mode": {
    "name": "ipython",
    "version": 3
   },
   "file_extension": ".py",
   "mimetype": "text/x-python",
   "name": "python",
   "nbconvert_exporter": "python",
   "pygments_lexer": "ipython3",
   "version": "3.9.15 (main, Nov 24 2022, 14:39:17) [MSC v.1916 64 bit (AMD64)]"
  },
  "orig_nbformat": 4,
  "vscode": {
   "interpreter": {
    "hash": "b9a1173fe2fc6b1e069ff4bb519a0fac3f1641eed16cc368a7915ccd160d7c0f"
   }
  }
 },
 "nbformat": 4,
 "nbformat_minor": 2
}
